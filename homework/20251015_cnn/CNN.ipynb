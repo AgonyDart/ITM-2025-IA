{
 "cells": [
  {
   "cell_type": "markdown",
   "metadata": {},
   "source": []
  },
  {
   "cell_type": "code",
   "execution_count": 151,
   "metadata": {
    "scrolled": true
   },
   "outputs": [
    {
     "name": "stdout",
     "output_type": "stream",
     "text": [
      "21 28 3 3\n"
     ]
    }
   ],
   "source": [
    "import cv2\n",
    "\n",
    "img = cv2.imread('./data/sportimages/basket/basket2_0001.jpg')\n",
    "print(img.shape[0], img.shape[1], img.shape[2], len(img.shape))"
   ]
  },
  {
   "cell_type": "markdown",
   "metadata": {},
   "source": [
    "# Convolutional Neural Networks"
   ]
  },
  {
   "cell_type": "markdown",
   "metadata": {},
   "source": []
  },
  {
   "cell_type": "markdown",
   "metadata": {},
   "source": [
    "# Importar Librerías"
   ]
  },
  {
   "cell_type": "code",
   "execution_count": 152,
   "metadata": {
    "ExecuteTime": {
     "end_time": "2018-11-08T00:12:59.231970Z",
     "start_time": "2018-11-08T00:12:51.800950Z"
    }
   },
   "outputs": [],
   "source": [
    "import numpy as np\n",
    "import os\n",
    "import re\n",
    "import matplotlib.pyplot as plt\n",
    "%matplotlib inline\n",
    "from sklearn.model_selection import train_test_split\n",
    "from sklearn.metrics import classification_report"
   ]
  },
  {
   "cell_type": "code",
   "execution_count": 153,
   "metadata": {
    "ExecuteTime": {
     "end_time": "2018-11-08T00:13:12.550878Z",
     "start_time": "2018-11-08T00:12:59.234748Z"
    },
    "scrolled": true
   },
   "outputs": [],
   "source": [
    "import keras\n",
    "import tensorflow as tf\n",
    "from tensorflow.keras.utils import to_categorical\n",
    "from keras.models import Sequential,Model\n",
    "from tensorflow.keras.layers import Input\n",
    "from keras.layers import Dense, Dropout, Flatten\n",
    "#from keras.layers import Conv2D, MaxPooling2D\n",
    "#from tensorflow.keras.models import Sequential\n",
    "from tensorflow.keras.layers import (\n",
    "    BatchNormalization, SeparableConv2D, MaxPooling2D, Activation, Flatten, Dropout, Dense, Conv2D\n",
    ")\n",
    "from keras.layers import LeakyReLU"
   ]
  },
  {
   "cell_type": "markdown",
   "metadata": {},
   "source": [
    "# Cargar set de Imágenes"
   ]
  },
  {
   "cell_type": "code",
   "execution_count": 154,
   "metadata": {
    "ExecuteTime": {
     "end_time": "2018-11-08T00:16:45.248080Z",
     "start_time": "2018-11-08T00:13:12.553292Z"
    },
    "scrolled": true
   },
   "outputs": [
    {
     "name": "stdout",
     "output_type": "stream",
     "text": [
      "leyendo imagenes de  /Users/angeld/MyCode/ITM-2025-IA/projects/20251015_cnn/data/sportimages/\n",
      "/Users/angeld/MyCode/ITM-2025-IA/projects/20251015_cnn/data/sportimages/golf 1\n",
      "Leyendo...648\r"
     ]
    },
    {
     "name": "stderr",
     "output_type": "stream",
     "text": [
      "<>:18: SyntaxWarning: invalid escape sequence '\\.'\n",
      "<>:18: SyntaxWarning: invalid escape sequence '\\.'\n",
      "/var/folders/9h/yhc2rb056v51gk9rgvs2s6540000gn/T/ipykernel_17282/94205818.py:18: SyntaxWarning: invalid escape sequence '\\.'\n",
      "  if re.search(\"\\.(jpg|jpeg|png|bmp|tiff)$\", filename):\n"
     ]
    },
    {
     "name": "stdout",
     "output_type": "stream",
     "text": [
      "/Users/angeld/MyCode/ITM-2025-IA/projects/20251015_cnn/data/sportimages/basket 9767\n",
      "/Users/angeld/MyCode/ITM-2025-IA/projects/20251015_cnn/data/sportimages/tenis 8823\n",
      "/Users/angeld/MyCode/ITM-2025-IA/projects/20251015_cnn/data/sportimages/natacion 8937\n",
      "/Users/angeld/MyCode/ITM-2025-IA/projects/20251015_cnn/data/sportimages/ciclismo 5172\n",
      "/Users/angeld/MyCode/ITM-2025-IA/projects/20251015_cnn/data/sportimages/beisball 7533\n",
      "/Users/angeld/MyCode/ITM-2025-IA/projects/20251015_cnn/data/sportimages/futbol 7752\n",
      "/Users/angeld/MyCode/ITM-2025-IA/projects/20251015_cnn/data/sportimages/americano 7617\n",
      "/Users/angeld/MyCode/ITM-2025-IA/projects/20251015_cnn/data/sportimages/f1 9348\n",
      "/Users/angeld/MyCode/ITM-2025-IA/projects/20251015_cnn/data/sportimages/boxeo 5053\n",
      "Directorios leidos: 10\n",
      "Imagenes en cada directorio [9768, 8823, 8937, 5172, 7533, 7752, 7617, 9348, 5053, 7124]\n",
      "suma Total de imagenes en subdirs: 77127\n"
     ]
    }
   ],
   "source": [
    "# Linux\n",
    "# dirname = os.path.join(os.getcwd(),'./data/sportimages/')\n",
    "\n",
    "# MacOS\n",
    "dirname = os.path.join(os.getcwd(),'/Users/angeld/MyCode/ITM-2025-IA/projects/20251015_cnn/data/sportimages')\n",
    "imgpath = dirname + os.sep\n",
    "\n",
    "images = []\n",
    "directories = []\n",
    "dircount = []\n",
    "prevRoot=''\n",
    "cant=0\n",
    "\n",
    "print(\"leyendo imagenes de \",imgpath)\n",
    "\n",
    "for root, dirnames, filenames in os.walk(imgpath):\n",
    "    for filename in filenames:\n",
    "        if re.search(\"\\.(jpg|jpeg|png|bmp|tiff)$\", filename):\n",
    "            cant=cant+1\n",
    "            filepath = os.path.join(root, filename)\n",
    "            image = plt.imread(filepath)\n",
    "            if(len(image.shape)==3):\n",
    "                images.append(image)\n",
    "            b = \"Leyendo...\" + str(cant)\n",
    "            print (b, end=\"\\r\")\n",
    "            if prevRoot !=root:\n",
    "                print(root, cant)\n",
    "                prevRoot=root\n",
    "                directories.append(root)\n",
    "                dircount.append(cant)\n",
    "                cant=0\n",
    "dircount.append(cant)\n",
    "\n",
    "dircount = dircount[1:]\n",
    "dircount[0]=dircount[0]+1\n",
    "print('Directorios leidos:',len(directories))\n",
    "print(\"Imagenes en cada directorio\", dircount)\n",
    "print('suma Total de imagenes en subdirs:',sum(dircount))"
   ]
  },
  {
   "cell_type": "markdown",
   "metadata": {},
   "source": [
    "# Creamos las etiquetas"
   ]
  },
  {
   "cell_type": "code",
   "execution_count": 155,
   "metadata": {
    "ExecuteTime": {
     "end_time": "2018-11-08T00:16:45.269861Z",
     "start_time": "2018-11-08T00:16:45.251786Z"
    }
   },
   "outputs": [
    {
     "name": "stdout",
     "output_type": "stream",
     "text": [
      "Cantidad etiquetas creadas:  77127\n"
     ]
    }
   ],
   "source": [
    "labels=[]\n",
    "indice=0\n",
    "for cantidad in dircount:\n",
    "    for i in range(cantidad):\n",
    "        labels.append(indice)\n",
    "    indice=indice+1\n",
    "print(\"Cantidad etiquetas creadas: \",len(labels))\n"
   ]
  },
  {
   "cell_type": "code",
   "execution_count": 156,
   "metadata": {
    "ExecuteTime": {
     "end_time": "2018-11-08T00:16:45.285925Z",
     "start_time": "2018-11-08T00:16:45.273489Z"
    }
   },
   "outputs": [
    {
     "name": "stdout",
     "output_type": "stream",
     "text": [
      "0 golf\n",
      "1 basket\n",
      "2 tenis\n",
      "3 natacion\n",
      "4 ciclismo\n",
      "5 beisball\n",
      "6 futbol\n",
      "7 americano\n",
      "8 f1\n",
      "9 boxeo\n"
     ]
    }
   ],
   "source": [
    "deportes=[]\n",
    "indice=0\n",
    "for directorio in directories:\n",
    "    name = directorio.split(os.sep)\n",
    "    print(indice , name[len(name)-1])\n",
    "    deportes.append(name[len(name)-1])\n",
    "    indice=indice+1"
   ]
  },
  {
   "cell_type": "code",
   "execution_count": 157,
   "metadata": {
    "ExecuteTime": {
     "end_time": "2018-11-08T00:16:45.498672Z",
     "start_time": "2018-11-08T00:16:45.290061Z"
    }
   },
   "outputs": [
    {
     "name": "stdout",
     "output_type": "stream",
     "text": [
      "Total number of outputs :  10\n",
      "Output classes :  [0 1 2 3 4 5 6 7 8 9]\n"
     ]
    }
   ],
   "source": [
    "y = np.array(labels)\n",
    "X = np.array(images, dtype=np.uint8) #convierto de lista a numpy\n",
    "\n",
    "\n",
    "\n",
    "# Find the unique numbers from the train labels\n",
    "classes = np.unique(y)\n",
    "nClasses = len(classes)\n",
    "print('Total number of outputs : ', nClasses)\n",
    "print('Output classes : ', classes)"
   ]
  },
  {
   "cell_type": "markdown",
   "metadata": {},
   "source": [
    "# Creamos Sets de Entrenamiento y Test"
   ]
  },
  {
   "cell_type": "code",
   "execution_count": 158,
   "metadata": {
    "ExecuteTime": {
     "end_time": "2018-11-08T00:16:45.669596Z",
     "start_time": "2018-11-08T00:16:45.502716Z"
    }
   },
   "outputs": [
    {
     "name": "stdout",
     "output_type": "stream",
     "text": [
      "Training data shape :  (61701, 21, 28, 3) (61701,)\n",
      "Testing data shape :  (15426, 21, 28, 3) (15426,)\n"
     ]
    }
   ],
   "source": [
    "train_X,test_X,train_Y,test_Y = train_test_split(X,y,test_size=0.2)\n",
    "print('Training data shape : ', train_X.shape, train_Y.shape)\n",
    "print('Testing data shape : ', test_X.shape, test_Y.shape)"
   ]
  },
  {
   "cell_type": "code",
   "execution_count": 159,
   "metadata": {
    "ExecuteTime": {
     "end_time": "2018-11-08T00:16:49.319746Z",
     "start_time": "2018-11-08T00:16:45.673944Z"
    }
   },
   "outputs": [
    {
     "data": {
      "text/plain": [
       "Text(0.5, 1.0, 'Ground Truth : 4')"
      ]
     },
     "execution_count": 159,
     "metadata": {},
     "output_type": "execute_result"
    },
    {
     "data": {
      "image/png": "[encoded data removed]",
      "text/plain": [
       "<Figure size 500x500 with 2 Axes>"
      ]
     },
     "metadata": {},
     "output_type": "display_data"
    }
   ],
   "source": [
    "plt.figure(figsize=[5,5])\n",
    "\n",
    "# Display the first image in training data\n",
    "plt.subplot(121)\n",
    "plt.imshow(train_X[0,:,:], cmap='gray')\n",
    "plt.title(\"Ground Truth : {}\".format(train_Y[0]))\n",
    "\n",
    "# Display the first image in testing data\n",
    "plt.subplot(122)\n",
    "plt.imshow(test_X[0,:,:], cmap='gray')\n",
    "plt.title(\"Ground Truth : {}\".format(test_Y[0]))"
   ]
  },
  {
   "cell_type": "markdown",
   "metadata": {},
   "source": [
    "# Preprocesamos las imagenes"
   ]
  },
  {
   "cell_type": "code",
   "execution_count": 160,
   "metadata": {
    "ExecuteTime": {
     "end_time": "2018-11-08T00:16:50.798162Z",
     "start_time": "2018-11-08T00:16:49.322999Z"
    }
   },
   "outputs": [
    {
     "data": {
      "text/plain": [
       "<matplotlib.image.AxesImage at 0x30f8c65d0>"
      ]
     },
     "execution_count": 160,
     "metadata": {},
     "output_type": "execute_result"
    },
    {
     "data": {
      "image/png": "[encoded data removed]",
      "text/plain": [
       "<Figure size 640x480 with 1 Axes>"
      ]
     },
     "metadata": {},
     "output_type": "display_data"
    }
   ],
   "source": [
    "train_X = train_X.astype('float32')\n",
    "test_X = test_X.astype('float32')\n",
    "train_X = train_X/255.\n",
    "test_X = test_X/255.\n",
    "plt.imshow(test_X[0,:,:])"
   ]
  },
  {
   "cell_type": "markdown",
   "metadata": {},
   "source": [
    "## Hacemos el One-hot Encoding para la red"
   ]
  },
  {
   "cell_type": "code",
   "execution_count": 161,
   "metadata": {
    "ExecuteTime": {
     "end_time": "2018-11-08T00:16:50.815482Z",
     "start_time": "2018-11-08T00:16:50.800831Z"
    }
   },
   "outputs": [
    {
     "name": "stdout",
     "output_type": "stream",
     "text": [
      "Original label: 9\n",
      "After conversion to one-hot: [0. 0. 0. 0. 0. 0. 0. 0. 0. 1.]\n"
     ]
    }
   ],
   "source": [
    "# Change the labels from categorical to one-hot encoding\n",
    "train_Y_one_hot = to_categorical(train_Y)\n",
    "test_Y_one_hot = to_categorical(test_Y)\n",
    "\n",
    "# Display the change for category label using one-hot encoding\n",
    "print('Original label:', train_Y[0])\n",
    "print('After conversion to one-hot:', train_Y_one_hot[0])"
   ]
  },
  {
   "cell_type": "markdown",
   "metadata": {},
   "source": [
    "# Creamos el Set de Entrenamiento y Validación"
   ]
  },
  {
   "cell_type": "code",
   "execution_count": 162,
   "metadata": {
    "ExecuteTime": {
     "end_time": "2018-11-08T00:16:51.218520Z",
     "start_time": "2018-11-08T00:16:50.818992Z"
    }
   },
   "outputs": [],
   "source": [
    "#Mezclar todo y crear los grupos de entrenamiento y testing\n",
    "train_X,valid_X,train_label,valid_label = train_test_split(train_X, train_Y_one_hot, test_size=0.2, random_state=13)"
   ]
  },
  {
   "cell_type": "code",
   "execution_count": 163,
   "metadata": {
    "ExecuteTime": {
     "end_time": "2018-11-08T00:16:51.228116Z",
     "start_time": "2018-11-08T00:16:51.222460Z"
    }
   },
   "outputs": [
    {
     "name": "stdout",
     "output_type": "stream",
     "text": [
      "(49360, 21, 28, 3) (12341, 21, 28, 3) (49360, 10) (12341, 10)\n"
     ]
    }
   ],
   "source": [
    "print(train_X.shape,valid_X.shape,train_label.shape,valid_label.shape)"
   ]
  },
  {
   "cell_type": "markdown",
   "metadata": {},
   "source": [
    "# Creamos el modelo de CNN"
   ]
  },
  {
   "cell_type": "code",
   "execution_count": 164,
   "metadata": {
    "ExecuteTime": {
     "end_time": "2018-11-08T00:16:51.244776Z",
     "start_time": "2018-11-08T00:16:51.238704Z"
    }
   },
   "outputs": [],
   "source": [
    "#declaramos variables con los parámetros de configuración de la red\n",
    "INIT_LR = 1e-3 # Valor inicial de learning rate. El valor 1e-3 corresponde con 0.001\n",
    "epochs = 80 # Cantidad de iteraciones completas al conjunto de imagenes de entrenamiento\n",
    "batch_size = 64 # cantidad de imágenes que se toman a la vez en memoria"
   ]
  },
  {
   "cell_type": "code",
   "execution_count": 165,
   "metadata": {
    "ExecuteTime": {
     "end_time": "2018-11-08T00:16:51.384131Z",
     "start_time": "2018-11-08T00:16:51.252188Z"
    }
   },
   "outputs": [
    {
     "name": "stderr",
     "output_type": "stream",
     "text": [
      "/Users/angeld/MyCode/ITM-2025-IA/venv/lib/python3.13/site-packages/keras/src/layers/convolutional/base_conv.py:113: UserWarning: Do not pass an `input_shape`/`input_dim` argument to a layer. When using Sequential models, prefer using an `Input(shape)` object as the first layer in the model instead.\n",
      "  super().__init__(activity_regularizer=activity_regularizer, **kwargs)\n",
      "/Users/angeld/MyCode/ITM-2025-IA/venv/lib/python3.13/site-packages/keras/src/layers/activations/leaky_relu.py:41: UserWarning: Argument `alpha` is deprecated. Use `negative_slope` instead.\n",
      "  warnings.warn(\n"
     ]
    }
   ],
   "source": [
    "sport_model = Sequential()\n",
    "sport_model.add(Conv2D(32, kernel_size=(3, 3),activation='linear',padding='same',input_shape=(21,28,3)))\n",
    "sport_model.add(LeakyReLU(alpha=0.1))\n",
    "sport_model.add(MaxPooling2D((2, 2),padding='same'))\n",
    "sport_model.add(Dropout(0.5))\n",
    "\n",
    "\n",
    "sport_model.add(Flatten())\n",
    "sport_model.add(Dense(32, activation='linear'))\n",
    "sport_model.add(LeakyReLU(alpha=0.1))\n",
    "sport_model.add(Dropout(0.5))\n",
    "sport_model.add(Dense(nClasses, activation='softmax'))"
   ]
  },
  {
   "cell_type": "code",
   "execution_count": 166,
   "metadata": {
    "ExecuteTime": {
     "end_time": "2018-11-08T00:16:51.401674Z",
     "start_time": "2018-11-08T00:16:51.386676Z"
    }
   },
   "outputs": [
    {
     "data": {
      "text/html": [
       "<pre style=\"white-space:pre;overflow-x:auto;line-height:normal;font-family:Menlo,'DejaVu Sans Mono',consolas,'Courier New',monospace\"><span style=\"font-weight: bold\">Model: \"sequential_5\"</span>\n",
       "</pre>\n"
      ],
      "text/plain": [
       "\u001b[1mModel: \"sequential_5\"\u001b[0m\n"
      ]
     },
     "metadata": {},
     "output_type": "display_data"
    },
    {
     "data": {
      "text/html": [
       "<pre style=\"white-space:pre;overflow-x:auto;line-height:normal;font-family:Menlo,'DejaVu Sans Mono',consolas,'Courier New',monospace\">┏━━━━━━━━━━━━━━━━━━━━━━━━━━━━━━━━━┳━━━━━━━━━━━━━━━━━━━━━━━━┳━━━━━━━━━━━━━━━┓\n",
       "┃<span style=\"font-weight: bold\"> Layer (type)                    </span>┃<span style=\"font-weight: bold\"> Output Shape           </span>┃<span style=\"font-weight: bold\">       Param # </span>┃\n",
       "┡━━━━━━━━━━━━━━━━━━━━━━━━━━━━━━━━━╇━━━━━━━━━━━━━━━━━━━━━━━━╇━━━━━━━━━━━━━━━┩\n",
       "│ conv2d_5 (<span style=\"color: #0087ff; text-decoration-color: #0087ff\">Conv2D</span>)               │ (<span style=\"color: #00d7ff; text-decoration-color: #00d7ff\">None</span>, <span style=\"color: #00af00; text-decoration-color: #00af00\">21</span>, <span style=\"color: #00af00; text-decoration-color: #00af00\">28</span>, <span style=\"color: #00af00; text-decoration-color: #00af00\">32</span>)     │           <span style=\"color: #00af00; text-decoration-color: #00af00\">896</span> │\n",
       "├─────────────────────────────────┼────────────────────────┼───────────────┤\n",
       "│ leaky_re_lu_10 (<span style=\"color: #0087ff; text-decoration-color: #0087ff\">LeakyReLU</span>)      │ (<span style=\"color: #00d7ff; text-decoration-color: #00d7ff\">None</span>, <span style=\"color: #00af00; text-decoration-color: #00af00\">21</span>, <span style=\"color: #00af00; text-decoration-color: #00af00\">28</span>, <span style=\"color: #00af00; text-decoration-color: #00af00\">32</span>)     │             <span style=\"color: #00af00; text-decoration-color: #00af00\">0</span> │\n",
       "├─────────────────────────────────┼────────────────────────┼───────────────┤\n",
       "│ max_pooling2d_5 (<span style=\"color: #0087ff; text-decoration-color: #0087ff\">MaxPooling2D</span>)  │ (<span style=\"color: #00d7ff; text-decoration-color: #00d7ff\">None</span>, <span style=\"color: #00af00; text-decoration-color: #00af00\">11</span>, <span style=\"color: #00af00; text-decoration-color: #00af00\">14</span>, <span style=\"color: #00af00; text-decoration-color: #00af00\">32</span>)     │             <span style=\"color: #00af00; text-decoration-color: #00af00\">0</span> │\n",
       "├─────────────────────────────────┼────────────────────────┼───────────────┤\n",
       "│ dropout_10 (<span style=\"color: #0087ff; text-decoration-color: #0087ff\">Dropout</span>)            │ (<span style=\"color: #00d7ff; text-decoration-color: #00d7ff\">None</span>, <span style=\"color: #00af00; text-decoration-color: #00af00\">11</span>, <span style=\"color: #00af00; text-decoration-color: #00af00\">14</span>, <span style=\"color: #00af00; text-decoration-color: #00af00\">32</span>)     │             <span style=\"color: #00af00; text-decoration-color: #00af00\">0</span> │\n",
       "├─────────────────────────────────┼────────────────────────┼───────────────┤\n",
       "│ flatten_5 (<span style=\"color: #0087ff; text-decoration-color: #0087ff\">Flatten</span>)             │ (<span style=\"color: #00d7ff; text-decoration-color: #00d7ff\">None</span>, <span style=\"color: #00af00; text-decoration-color: #00af00\">4928</span>)           │             <span style=\"color: #00af00; text-decoration-color: #00af00\">0</span> │\n",
       "├─────────────────────────────────┼────────────────────────┼───────────────┤\n",
       "│ dense_10 (<span style=\"color: #0087ff; text-decoration-color: #0087ff\">Dense</span>)                │ (<span style=\"color: #00d7ff; text-decoration-color: #00d7ff\">None</span>, <span style=\"color: #00af00; text-decoration-color: #00af00\">32</span>)             │       <span style=\"color: #00af00; text-decoration-color: #00af00\">157,728</span> │\n",
       "├─────────────────────────────────┼────────────────────────┼───────────────┤\n",
       "│ leaky_re_lu_11 (<span style=\"color: #0087ff; text-decoration-color: #0087ff\">LeakyReLU</span>)      │ (<span style=\"color: #00d7ff; text-decoration-color: #00d7ff\">None</span>, <span style=\"color: #00af00; text-decoration-color: #00af00\">32</span>)             │             <span style=\"color: #00af00; text-decoration-color: #00af00\">0</span> │\n",
       "├─────────────────────────────────┼────────────────────────┼───────────────┤\n",
       "│ dropout_11 (<span style=\"color: #0087ff; text-decoration-color: #0087ff\">Dropout</span>)            │ (<span style=\"color: #00d7ff; text-decoration-color: #00d7ff\">None</span>, <span style=\"color: #00af00; text-decoration-color: #00af00\">32</span>)             │             <span style=\"color: #00af00; text-decoration-color: #00af00\">0</span> │\n",
       "├─────────────────────────────────┼────────────────────────┼───────────────┤\n",
       "│ dense_11 (<span style=\"color: #0087ff; text-decoration-color: #0087ff\">Dense</span>)                │ (<span style=\"color: #00d7ff; text-decoration-color: #00d7ff\">None</span>, <span style=\"color: #00af00; text-decoration-color: #00af00\">10</span>)             │           <span style=\"color: #00af00; text-decoration-color: #00af00\">330</span> │\n",
       "└─────────────────────────────────┴────────────────────────┴───────────────┘\n",
       "</pre>\n"
      ],
      "text/plain": [
       "┏━━━━━━━━━━━━━━━━━━━━━━━━━━━━━━━━━┳━━━━━━━━━━━━━━━━━━━━━━━━┳━━━━━━━━━━━━━━━┓\n",
       "┃\u001b[1m \u001b[0m\u001b[1mLayer (type)                   \u001b[0m\u001b[1m \u001b[0m┃\u001b[1m \u001b[0m\u001b[1mOutput Shape          \u001b[0m\u001b[1m \u001b[0m┃\u001b[1m \u001b[0m\u001b[1m      Param #\u001b[0m\u001b[1m \u001b[0m┃\n",
       "┡━━━━━━━━━━━━━━━━━━━━━━━━━━━━━━━━━╇━━━━━━━━━━━━━━━━━━━━━━━━╇━━━━━━━━━━━━━━━┩\n",
       "│ conv2d_5 (\u001b[38;5;33mConv2D\u001b[0m)               │ (\u001b[38;5;45mNone\u001b[0m, \u001b[38;5;34m21\u001b[0m, \u001b[38;5;34m28\u001b[0m, \u001b[38;5;34m32\u001b[0m)     │           \u001b[38;5;34m896\u001b[0m │\n",
       "├─────────────────────────────────┼────────────────────────┼───────────────┤\n",
       "│ leaky_re_lu_10 (\u001b[38;5;33mLeakyReLU\u001b[0m)      │ (\u001b[38;5;45mNone\u001b[0m, \u001b[38;5;34m21\u001b[0m, \u001b[38;5;34m28\u001b[0m, \u001b[38;5;34m32\u001b[0m)     │             \u001b[38;5;34m0\u001b[0m │\n",
       "├─────────────────────────────────┼────────────────────────┼───────────────┤\n",
       "│ max_pooling2d_5 (\u001b[38;5;33mMaxPooling2D\u001b[0m)  │ (\u001b[38;5;45mNone\u001b[0m, \u001b[38;5;34m11\u001b[0m, \u001b[38;5;34m14\u001b[0m, \u001b[38;5;34m32\u001b[0m)     │             \u001b[38;5;34m0\u001b[0m │\n",
       "├─────────────────────────────────┼────────────────────────┼───────────────┤\n",
       "│ dropout_10 (\u001b[38;5;33mDropout\u001b[0m)            │ (\u001b[38;5;45mNone\u001b[0m, \u001b[38;5;34m11\u001b[0m, \u001b[38;5;34m14\u001b[0m, \u001b[38;5;34m32\u001b[0m)     │             \u001b[38;5;34m0\u001b[0m │\n",
       "├─────────────────────────────────┼────────────────────────┼───────────────┤\n",
       "│ flatten_5 (\u001b[38;5;33mFlatten\u001b[0m)             │ (\u001b[38;5;45mNone\u001b[0m, \u001b[38;5;34m4928\u001b[0m)           │             \u001b[38;5;34m0\u001b[0m │\n",
       "├─────────────────────────────────┼────────────────────────┼───────────────┤\n",
       "│ dense_10 (\u001b[38;5;33mDense\u001b[0m)                │ (\u001b[38;5;45mNone\u001b[0m, \u001b[38;5;34m32\u001b[0m)             │       \u001b[38;5;34m157,728\u001b[0m │\n",
       "├─────────────────────────────────┼────────────────────────┼───────────────┤\n",
       "│ leaky_re_lu_11 (\u001b[38;5;33mLeakyReLU\u001b[0m)      │ (\u001b[38;5;45mNone\u001b[0m, \u001b[38;5;34m32\u001b[0m)             │             \u001b[38;5;34m0\u001b[0m │\n",
       "├─────────────────────────────────┼────────────────────────┼───────────────┤\n",
       "│ dropout_11 (\u001b[38;5;33mDropout\u001b[0m)            │ (\u001b[38;5;45mNone\u001b[0m, \u001b[38;5;34m32\u001b[0m)             │             \u001b[38;5;34m0\u001b[0m │\n",
       "├─────────────────────────────────┼────────────────────────┼───────────────┤\n",
       "│ dense_11 (\u001b[38;5;33mDense\u001b[0m)                │ (\u001b[38;5;45mNone\u001b[0m, \u001b[38;5;34m10\u001b[0m)             │           \u001b[38;5;34m330\u001b[0m │\n",
       "└─────────────────────────────────┴────────────────────────┴───────────────┘\n"
      ]
     },
     "metadata": {},
     "output_type": "display_data"
    },
    {
     "data": {
      "text/html": [
       "<pre style=\"white-space:pre;overflow-x:auto;line-height:normal;font-family:Menlo,'DejaVu Sans Mono',consolas,'Courier New',monospace\"><span style=\"font-weight: bold\"> Total params: </span><span style=\"color: #00af00; text-decoration-color: #00af00\">158,954</span> (620.91 KB)\n",
       "</pre>\n"
      ],
      "text/plain": [
       "\u001b[1m Total params: \u001b[0m\u001b[38;5;34m158,954\u001b[0m (620.91 KB)\n"
      ]
     },
     "metadata": {},
     "output_type": "display_data"
    },
    {
     "data": {
      "text/html": [
       "<pre style=\"white-space:pre;overflow-x:auto;line-height:normal;font-family:Menlo,'DejaVu Sans Mono',consolas,'Courier New',monospace\"><span style=\"font-weight: bold\"> Trainable params: </span><span style=\"color: #00af00; text-decoration-color: #00af00\">158,954</span> (620.91 KB)\n",
       "</pre>\n"
      ],
      "text/plain": [
       "\u001b[1m Trainable params: \u001b[0m\u001b[38;5;34m158,954\u001b[0m (620.91 KB)\n"
      ]
     },
     "metadata": {},
     "output_type": "display_data"
    },
    {
     "data": {
      "text/html": [
       "<pre style=\"white-space:pre;overflow-x:auto;line-height:normal;font-family:Menlo,'DejaVu Sans Mono',consolas,'Courier New',monospace\"><span style=\"font-weight: bold\"> Non-trainable params: </span><span style=\"color: #00af00; text-decoration-color: #00af00\">0</span> (0.00 B)\n",
       "</pre>\n"
      ],
      "text/plain": [
       "\u001b[1m Non-trainable params: \u001b[0m\u001b[38;5;34m0\u001b[0m (0.00 B)\n"
      ]
     },
     "metadata": {},
     "output_type": "display_data"
    }
   ],
   "source": [
    "sport_model.summary()"
   ]
  },
  {
   "cell_type": "code",
   "execution_count": 167,
   "metadata": {
    "ExecuteTime": {
     "end_time": "2018-11-08T00:16:51.472349Z",
     "start_time": "2018-11-08T00:16:51.406817Z"
    }
   },
   "outputs": [],
   "source": [
    "sport_model.compile(loss='categorical_crossentropy', optimizer=tf.keras.optimizers.SGD(learning_rate=INIT_LR), metrics=['accuracy'])"
   ]
  },
  {
   "cell_type": "code",
   "execution_count": null,
   "metadata": {},
   "outputs": [],
   "source": []
  },
  {
   "cell_type": "markdown",
   "metadata": {},
   "source": [
    "# Entrenamos el modelo: Aprende a clasificar imágenes"
   ]
  },
  {
   "cell_type": "code",
   "execution_count": 168,
   "metadata": {
    "ExecuteTime": {
     "end_time": "2018-11-08T00:20:49.562522Z",
     "start_time": "2018-11-08T00:16:51.474807Z"
    }
   },
   "outputs": [
    {
     "name": "stdout",
     "output_type": "stream",
     "text": [
      "Epoch 1/80\n",
      "\u001b[1m772/772\u001b[0m \u001b[32m━━━━━━━━━━━━━━━━━━━━\u001b[0m\u001b[37m\u001b[0m \u001b[1m9s\u001b[0m 11ms/step - accuracy: 0.1652 - loss: 2.2603 - val_accuracy: 0.3599 - val_loss: 2.1599\n",
      "Epoch 2/80\n",
      "\u001b[1m772/772\u001b[0m \u001b[32m━━━━━━━━━━━━━━━━━━━━\u001b[0m\u001b[37m\u001b[0m \u001b[1m8s\u001b[0m 10ms/step - accuracy: 0.2509 - loss: 2.1240 - val_accuracy: 0.4487 - val_loss: 1.9672\n",
      "Epoch 3/80\n",
      "\u001b[1m772/772\u001b[0m \u001b[32m━━━━━━━━━━━━━━━━━━━━\u001b[0m\u001b[37m\u001b[0m \u001b[1m8s\u001b[0m 10ms/step - accuracy: 0.3145 - loss: 1.9708 - val_accuracy: 0.5329 - val_loss: 1.7669\n",
      "Epoch 4/80\n",
      "\u001b[1m772/772\u001b[0m \u001b[32m━━━━━━━━━━━━━━━━━━━━\u001b[0m\u001b[37m\u001b[0m \u001b[1m7s\u001b[0m 9ms/step - accuracy: 0.3756 - loss: 1.8167 - val_accuracy: 0.6256 - val_loss: 1.5683\n",
      "Epoch 5/80\n",
      "\u001b[1m772/772\u001b[0m \u001b[32m━━━━━━━━━━━━━━━━━━━━\u001b[0m\u001b[37m\u001b[0m \u001b[1m8s\u001b[0m 10ms/step - accuracy: 0.4251 - loss: 1.6719 - val_accuracy: 0.6712 - val_loss: 1.3962\n",
      "Epoch 6/80\n",
      "\u001b[1m772/772\u001b[0m \u001b[32m━━━━━━━━━━━━━━━━━━━━\u001b[0m\u001b[37m\u001b[0m \u001b[1m10s\u001b[0m 12ms/step - accuracy: 0.4729 - loss: 1.5353 - val_accuracy: 0.6978 - val_loss: 1.2518\n",
      "Epoch 7/80\n",
      "\u001b[1m772/772\u001b[0m \u001b[32m━━━━━━━━━━━━━━━━━━━━\u001b[0m\u001b[37m\u001b[0m \u001b[1m6s\u001b[0m 8ms/step - accuracy: 0.5108 - loss: 1.4265 - val_accuracy: 0.7112 - val_loss: 1.1371\n",
      "Epoch 8/80\n",
      "\u001b[1m772/772\u001b[0m \u001b[32m━━━━━━━━━━━━━━━━━━━━\u001b[0m\u001b[37m\u001b[0m \u001b[1m6s\u001b[0m 8ms/step - accuracy: 0.5430 - loss: 1.3388 - val_accuracy: 0.7320 - val_loss: 1.0474\n",
      "Epoch 9/80\n",
      "\u001b[1m772/772\u001b[0m \u001b[32m━━━━━━━━━━━━━━━━━━━━\u001b[0m\u001b[37m\u001b[0m \u001b[1m6s\u001b[0m 8ms/step - accuracy: 0.5669 - loss: 1.2698 - val_accuracy: 0.7428 - val_loss: 0.9812\n",
      "Epoch 10/80\n",
      "\u001b[1m772/772\u001b[0m \u001b[32m━━━━━━━━━━━━━━━━━━━━\u001b[0m\u001b[37m\u001b[0m \u001b[1m6s\u001b[0m 8ms/step - accuracy: 0.5905 - loss: 1.2036 - val_accuracy: 0.7460 - val_loss: 0.9229\n",
      "Epoch 11/80\n",
      "\u001b[1m772/772\u001b[0m \u001b[32m━━━━━━━━━━━━━━━━━━━━\u001b[0m\u001b[37m\u001b[0m \u001b[1m6s\u001b[0m 8ms/step - accuracy: 0.6068 - loss: 1.1555 - val_accuracy: 0.7601 - val_loss: 0.8783\n",
      "Epoch 12/80\n",
      "\u001b[1m772/772\u001b[0m \u001b[32m━━━━━━━━━━━━━━━━━━━━\u001b[0m\u001b[37m\u001b[0m \u001b[1m6s\u001b[0m 8ms/step - accuracy: 0.6239 - loss: 1.1113 - val_accuracy: 0.7787 - val_loss: 0.8395\n",
      "Epoch 13/80\n",
      "\u001b[1m772/772\u001b[0m \u001b[32m━━━━━━━━━━━━━━━━━━━━\u001b[0m\u001b[37m\u001b[0m \u001b[1m6s\u001b[0m 8ms/step - accuracy: 0.6351 - loss: 1.0787 - val_accuracy: 0.7853 - val_loss: 0.8049\n",
      "Epoch 14/80\n",
      "\u001b[1m772/772\u001b[0m \u001b[32m━━━━━━━━━━━━━━━━━━━━\u001b[0m\u001b[37m\u001b[0m \u001b[1m6s\u001b[0m 8ms/step - accuracy: 0.6464 - loss: 1.0477 - val_accuracy: 0.7912 - val_loss: 0.7772\n",
      "Epoch 15/80\n",
      "\u001b[1m772/772\u001b[0m \u001b[32m━━━━━━━━━━━━━━━━━━━━\u001b[0m\u001b[37m\u001b[0m \u001b[1m6s\u001b[0m 8ms/step - accuracy: 0.6609 - loss: 1.0175 - val_accuracy: 0.8008 - val_loss: 0.7468\n",
      "Epoch 16/80\n",
      "\u001b[1m772/772\u001b[0m \u001b[32m━━━━━━━━━━━━━━━━━━━━\u001b[0m\u001b[37m\u001b[0m \u001b[1m6s\u001b[0m 8ms/step - accuracy: 0.6663 - loss: 0.9970 - val_accuracy: 0.8089 - val_loss: 0.7311\n",
      "Epoch 17/80\n",
      "\u001b[1m772/772\u001b[0m \u001b[32m━━━━━━━━━━━━━━━━━━━━\u001b[0m\u001b[37m\u001b[0m \u001b[1m6s\u001b[0m 8ms/step - accuracy: 0.6780 - loss: 0.9723 - val_accuracy: 0.8102 - val_loss: 0.7063\n",
      "Epoch 18/80\n",
      "\u001b[1m772/772\u001b[0m \u001b[32m━━━━━━━━━━━━━━━━━━━━\u001b[0m\u001b[37m\u001b[0m \u001b[1m7s\u001b[0m 9ms/step - accuracy: 0.6829 - loss: 0.9520 - val_accuracy: 0.8141 - val_loss: 0.6866\n",
      "Epoch 19/80\n",
      "\u001b[1m772/772\u001b[0m \u001b[32m━━━━━━━━━━━━━━━━━━━━\u001b[0m\u001b[37m\u001b[0m \u001b[1m6s\u001b[0m 8ms/step - accuracy: 0.6935 - loss: 0.9268 - val_accuracy: 0.8226 - val_loss: 0.6668\n",
      "Epoch 20/80\n",
      "\u001b[1m772/772\u001b[0m \u001b[32m━━━━━━━━━━━━━━━━━━━━\u001b[0m\u001b[37m\u001b[0m \u001b[1m6s\u001b[0m 8ms/step - accuracy: 0.6975 - loss: 0.9125 - val_accuracy: 0.8198 - val_loss: 0.6496\n",
      "Epoch 21/80\n",
      "\u001b[1m772/772\u001b[0m \u001b[32m━━━━━━━━━━━━━━━━━━━━\u001b[0m\u001b[37m\u001b[0m \u001b[1m6s\u001b[0m 8ms/step - accuracy: 0.7100 - loss: 0.8907 - val_accuracy: 0.8295 - val_loss: 0.6348\n",
      "Epoch 22/80\n",
      "\u001b[1m772/772\u001b[0m \u001b[32m━━━━━━━━━━━━━━━━━━━━\u001b[0m\u001b[37m\u001b[0m \u001b[1m6s\u001b[0m 8ms/step - accuracy: 0.7137 - loss: 0.8735 - val_accuracy: 0.8311 - val_loss: 0.6187\n",
      "Epoch 23/80\n",
      "\u001b[1m772/772\u001b[0m \u001b[32m━━━━━━━━━━━━━━━━━━━━\u001b[0m\u001b[37m\u001b[0m \u001b[1m7s\u001b[0m 9ms/step - accuracy: 0.7183 - loss: 0.8642 - val_accuracy: 0.8340 - val_loss: 0.6013\n",
      "Epoch 24/80\n",
      "\u001b[1m772/772\u001b[0m \u001b[32m━━━━━━━━━━━━━━━━━━━━\u001b[0m\u001b[37m\u001b[0m \u001b[1m6s\u001b[0m 8ms/step - accuracy: 0.7228 - loss: 0.8484 - val_accuracy: 0.8386 - val_loss: 0.5891\n",
      "Epoch 25/80\n",
      "\u001b[1m772/772\u001b[0m \u001b[32m━━━━━━━━━━━━━━━━━━━━\u001b[0m\u001b[37m\u001b[0m \u001b[1m6s\u001b[0m 8ms/step - accuracy: 0.7328 - loss: 0.8282 - val_accuracy: 0.8457 - val_loss: 0.5740\n",
      "Epoch 26/80\n",
      "\u001b[1m772/772\u001b[0m \u001b[32m━━━━━━━━━━━━━━━━━━━━\u001b[0m\u001b[37m\u001b[0m \u001b[1m6s\u001b[0m 8ms/step - accuracy: 0.7353 - loss: 0.8154 - val_accuracy: 0.8474 - val_loss: 0.5597\n",
      "Epoch 27/80\n",
      "\u001b[1m772/772\u001b[0m \u001b[32m━━━━━━━━━━━━━━━━━━━━\u001b[0m\u001b[37m\u001b[0m \u001b[1m6s\u001b[0m 7ms/step - accuracy: 0.7396 - loss: 0.8050 - val_accuracy: 0.8537 - val_loss: 0.5481\n",
      "Epoch 28/80\n",
      "\u001b[1m772/772\u001b[0m \u001b[32m━━━━━━━━━━━━━━━━━━━━\u001b[0m\u001b[37m\u001b[0m \u001b[1m6s\u001b[0m 8ms/step - accuracy: 0.7468 - loss: 0.7922 - val_accuracy: 0.8551 - val_loss: 0.5387\n",
      "Epoch 29/80\n",
      "\u001b[1m772/772\u001b[0m \u001b[32m━━━━━━━━━━━━━━━━━━━━\u001b[0m\u001b[37m\u001b[0m \u001b[1m6s\u001b[0m 8ms/step - accuracy: 0.7498 - loss: 0.7798 - val_accuracy: 0.8606 - val_loss: 0.5247\n",
      "Epoch 30/80\n",
      "\u001b[1m772/772\u001b[0m \u001b[32m━━━━━━━━━━━━━━━━━━━━\u001b[0m\u001b[37m\u001b[0m \u001b[1m6s\u001b[0m 8ms/step - accuracy: 0.7523 - loss: 0.7720 - val_accuracy: 0.8659 - val_loss: 0.5165\n",
      "Epoch 31/80\n",
      "\u001b[1m772/772\u001b[0m \u001b[32m━━━━━━━━━━━━━━━━━━━━\u001b[0m\u001b[37m\u001b[0m \u001b[1m6s\u001b[0m 8ms/step - accuracy: 0.7588 - loss: 0.7547 - val_accuracy: 0.8651 - val_loss: 0.5053\n",
      "Epoch 32/80\n",
      "\u001b[1m772/772\u001b[0m \u001b[32m━━━━━━━━━━━━━━━━━━━━\u001b[0m\u001b[37m\u001b[0m \u001b[1m6s\u001b[0m 8ms/step - accuracy: 0.7613 - loss: 0.7477 - val_accuracy: 0.8713 - val_loss: 0.4940\n",
      "Epoch 33/80\n",
      "\u001b[1m772/772\u001b[0m \u001b[32m━━━━━━━━━━━━━━━━━━━━\u001b[0m\u001b[37m\u001b[0m \u001b[1m6s\u001b[0m 8ms/step - accuracy: 0.7656 - loss: 0.7377 - val_accuracy: 0.8725 - val_loss: 0.4854\n",
      "Epoch 34/80\n",
      "\u001b[1m772/772\u001b[0m \u001b[32m━━━━━━━━━━━━━━━━━━━━\u001b[0m\u001b[37m\u001b[0m \u001b[1m6s\u001b[0m 7ms/step - accuracy: 0.7675 - loss: 0.7298 - val_accuracy: 0.8744 - val_loss: 0.4786\n",
      "Epoch 35/80\n",
      "\u001b[1m772/772\u001b[0m \u001b[32m━━━━━━━━━━━━━━━━━━━━\u001b[0m\u001b[37m\u001b[0m \u001b[1m6s\u001b[0m 8ms/step - accuracy: 0.7712 - loss: 0.7193 - val_accuracy: 0.8771 - val_loss: 0.4705\n",
      "Epoch 36/80\n",
      "\u001b[1m772/772\u001b[0m \u001b[32m━━━━━━━━━━━━━━━━━━━━\u001b[0m\u001b[37m\u001b[0m \u001b[1m6s\u001b[0m 8ms/step - accuracy: 0.7751 - loss: 0.7103 - val_accuracy: 0.8802 - val_loss: 0.4598\n",
      "Epoch 37/80\n",
      "\u001b[1m772/772\u001b[0m \u001b[32m━━━━━━━━━━━━━━━━━━━━\u001b[0m\u001b[37m\u001b[0m \u001b[1m6s\u001b[0m 8ms/step - accuracy: 0.7772 - loss: 0.7003 - val_accuracy: 0.8823 - val_loss: 0.4513\n",
      "Epoch 38/80\n",
      "\u001b[1m772/772\u001b[0m \u001b[32m━━━━━━━━━━━━━━━━━━━━\u001b[0m\u001b[37m\u001b[0m \u001b[1m6s\u001b[0m 8ms/step - accuracy: 0.7793 - loss: 0.6975 - val_accuracy: 0.8840 - val_loss: 0.4458\n",
      "Epoch 39/80\n",
      "\u001b[1m772/772\u001b[0m \u001b[32m━━━━━━━━━━━━━━━━━━━━\u001b[0m\u001b[37m\u001b[0m \u001b[1m6s\u001b[0m 8ms/step - accuracy: 0.7827 - loss: 0.6814 - val_accuracy: 0.8854 - val_loss: 0.4371\n",
      "Epoch 40/80\n",
      "\u001b[1m772/772\u001b[0m \u001b[32m━━━━━━━━━━━━━━━━━━━━\u001b[0m\u001b[37m\u001b[0m \u001b[1m6s\u001b[0m 8ms/step - accuracy: 0.7876 - loss: 0.6730 - val_accuracy: 0.8856 - val_loss: 0.4308\n",
      "Epoch 41/80\n",
      "\u001b[1m772/772\u001b[0m \u001b[32m━━━━━━━━━━━━━━━━━━━━\u001b[0m\u001b[37m\u001b[0m \u001b[1m6s\u001b[0m 8ms/step - accuracy: 0.7911 - loss: 0.6629 - val_accuracy: 0.8900 - val_loss: 0.4196\n",
      "Epoch 42/80\n",
      "\u001b[1m772/772\u001b[0m \u001b[32m━━━━━━━━━━━━━━━━━━━━\u001b[0m\u001b[37m\u001b[0m \u001b[1m6s\u001b[0m 8ms/step - accuracy: 0.7900 - loss: 0.6657 - val_accuracy: 0.8904 - val_loss: 0.4151\n",
      "Epoch 43/80\n",
      "\u001b[1m772/772\u001b[0m \u001b[32m━━━━━━━━━━━━━━━━━━━━\u001b[0m\u001b[37m\u001b[0m \u001b[1m6s\u001b[0m 8ms/step - accuracy: 0.7941 - loss: 0.6564 - val_accuracy: 0.8909 - val_loss: 0.4093\n",
      "Epoch 44/80\n",
      "\u001b[1m772/772\u001b[0m \u001b[32m━━━━━━━━━━━━━━━━━━━━\u001b[0m\u001b[37m\u001b[0m \u001b[1m6s\u001b[0m 8ms/step - accuracy: 0.7970 - loss: 0.6431 - val_accuracy: 0.8942 - val_loss: 0.4021\n",
      "Epoch 45/80\n",
      "\u001b[1m772/772\u001b[0m \u001b[32m━━━━━━━━━━━━━━━━━━━━\u001b[0m\u001b[37m\u001b[0m \u001b[1m6s\u001b[0m 8ms/step - accuracy: 0.8020 - loss: 0.6367 - val_accuracy: 0.8948 - val_loss: 0.3968\n",
      "Epoch 46/80\n",
      "\u001b[1m772/772\u001b[0m \u001b[32m━━━━━━━━━━━━━━━━━━━━\u001b[0m\u001b[37m\u001b[0m \u001b[1m6s\u001b[0m 8ms/step - accuracy: 0.8011 - loss: 0.6261 - val_accuracy: 0.8985 - val_loss: 0.3877\n",
      "Epoch 47/80\n",
      "\u001b[1m772/772\u001b[0m \u001b[32m━━━━━━━━━━━━━━━━━━━━\u001b[0m\u001b[37m\u001b[0m \u001b[1m6s\u001b[0m 8ms/step - accuracy: 0.8030 - loss: 0.6228 - val_accuracy: 0.8978 - val_loss: 0.3827\n",
      "Epoch 48/80\n",
      "\u001b[1m772/772\u001b[0m \u001b[32m━━━━━━━━━━━━━━━━━━━━\u001b[0m\u001b[37m\u001b[0m \u001b[1m6s\u001b[0m 8ms/step - accuracy: 0.8049 - loss: 0.6176 - val_accuracy: 0.9002 - val_loss: 0.3774\n",
      "Epoch 49/80\n",
      "\u001b[1m772/772\u001b[0m \u001b[32m━━━━━━━━━━━━━━━━━━━━\u001b[0m\u001b[37m\u001b[0m \u001b[1m6s\u001b[0m 8ms/step - accuracy: 0.8079 - loss: 0.6094 - val_accuracy: 0.9020 - val_loss: 0.3714\n",
      "Epoch 50/80\n",
      "\u001b[1m772/772\u001b[0m \u001b[32m━━━━━━━━━━━━━━━━━━━━\u001b[0m\u001b[37m\u001b[0m \u001b[1m6s\u001b[0m 8ms/step - accuracy: 0.8093 - loss: 0.6069 - val_accuracy: 0.9008 - val_loss: 0.3673\n",
      "Epoch 51/80\n",
      "\u001b[1m772/772\u001b[0m \u001b[32m━━━━━━━━━━━━━━━━━━━━\u001b[0m\u001b[37m\u001b[0m \u001b[1m6s\u001b[0m 8ms/step - accuracy: 0.8124 - loss: 0.5977 - val_accuracy: 0.9029 - val_loss: 0.3591\n",
      "Epoch 52/80\n",
      "\u001b[1m772/772\u001b[0m \u001b[32m━━━━━━━━━━━━━━━━━━━━\u001b[0m\u001b[37m\u001b[0m \u001b[1m6s\u001b[0m 8ms/step - accuracy: 0.8129 - loss: 0.5923 - val_accuracy: 0.9044 - val_loss: 0.3560\n",
      "Epoch 53/80\n",
      "\u001b[1m772/772\u001b[0m \u001b[32m━━━━━━━━━━━━━━━━━━━━\u001b[0m\u001b[37m\u001b[0m \u001b[1m6s\u001b[0m 8ms/step - accuracy: 0.8139 - loss: 0.5881 - val_accuracy: 0.9064 - val_loss: 0.3516\n",
      "Epoch 54/80\n",
      "\u001b[1m772/772\u001b[0m \u001b[32m━━━━━━━━━━━━━━━━━━━━\u001b[0m\u001b[37m\u001b[0m \u001b[1m6s\u001b[0m 8ms/step - accuracy: 0.8167 - loss: 0.5822 - val_accuracy: 0.9103 - val_loss: 0.3458\n",
      "Epoch 55/80\n",
      "\u001b[1m772/772\u001b[0m \u001b[32m━━━━━━━━━━━━━━━━━━━━\u001b[0m\u001b[37m\u001b[0m \u001b[1m6s\u001b[0m 8ms/step - accuracy: 0.8179 - loss: 0.5756 - val_accuracy: 0.9084 - val_loss: 0.3414\n",
      "Epoch 56/80\n",
      "\u001b[1m772/772\u001b[0m \u001b[32m━━━━━━━━━━━━━━━━━━━━\u001b[0m\u001b[37m\u001b[0m \u001b[1m6s\u001b[0m 8ms/step - accuracy: 0.8219 - loss: 0.5668 - val_accuracy: 0.9114 - val_loss: 0.3368\n",
      "Epoch 57/80\n",
      "\u001b[1m772/772\u001b[0m \u001b[32m━━━━━━━━━━━━━━━━━━━━\u001b[0m\u001b[37m\u001b[0m \u001b[1m6s\u001b[0m 8ms/step - accuracy: 0.8216 - loss: 0.5661 - val_accuracy: 0.9131 - val_loss: 0.3323\n",
      "Epoch 58/80\n",
      "\u001b[1m772/772\u001b[0m \u001b[32m━━━━━━━━━━━━━━━━━━━━\u001b[0m\u001b[37m\u001b[0m \u001b[1m7s\u001b[0m 9ms/step - accuracy: 0.8219 - loss: 0.5604 - val_accuracy: 0.9152 - val_loss: 0.3272\n",
      "Epoch 59/80\n",
      "\u001b[1m772/772\u001b[0m \u001b[32m━━━━━━━━━━━━━━━━━━━━\u001b[0m\u001b[37m\u001b[0m \u001b[1m6s\u001b[0m 8ms/step - accuracy: 0.8268 - loss: 0.5555 - val_accuracy: 0.9170 - val_loss: 0.3250\n",
      "Epoch 60/80\n",
      "\u001b[1m772/772\u001b[0m \u001b[32m━━━━━━━━━━━━━━━━━━━━\u001b[0m\u001b[37m\u001b[0m \u001b[1m6s\u001b[0m 8ms/step - accuracy: 0.8266 - loss: 0.5469 - val_accuracy: 0.9165 - val_loss: 0.3198\n",
      "Epoch 61/80\n",
      "\u001b[1m772/772\u001b[0m \u001b[32m━━━━━━━━━━━━━━━━━━━━\u001b[0m\u001b[37m\u001b[0m \u001b[1m7s\u001b[0m 9ms/step - accuracy: 0.8269 - loss: 0.5460 - val_accuracy: 0.9191 - val_loss: 0.3163\n",
      "Epoch 62/80\n",
      "\u001b[1m772/772\u001b[0m \u001b[32m━━━━━━━━━━━━━━━━━━━━\u001b[0m\u001b[37m\u001b[0m \u001b[1m6s\u001b[0m 8ms/step - accuracy: 0.8293 - loss: 0.5444 - val_accuracy: 0.9176 - val_loss: 0.3120\n",
      "Epoch 63/80\n",
      "\u001b[1m772/772\u001b[0m \u001b[32m━━━━━━━━━━━━━━━━━━━━\u001b[0m\u001b[37m\u001b[0m \u001b[1m6s\u001b[0m 8ms/step - accuracy: 0.8284 - loss: 0.5445 - val_accuracy: 0.9195 - val_loss: 0.3078\n",
      "Epoch 64/80\n",
      "\u001b[1m772/772\u001b[0m \u001b[32m━━━━━━━━━━━━━━━━━━━━\u001b[0m\u001b[37m\u001b[0m \u001b[1m7s\u001b[0m 8ms/step - accuracy: 0.8297 - loss: 0.5346 - val_accuracy: 0.9210 - val_loss: 0.3044\n",
      "Epoch 65/80\n",
      "\u001b[1m772/772\u001b[0m \u001b[32m━━━━━━━━━━━━━━━━━━━━\u001b[0m\u001b[37m\u001b[0m \u001b[1m7s\u001b[0m 8ms/step - accuracy: 0.8343 - loss: 0.5296 - val_accuracy: 0.9221 - val_loss: 0.2995\n",
      "Epoch 66/80\n",
      "\u001b[1m772/772\u001b[0m \u001b[32m━━━━━━━━━━━━━━━━━━━━\u001b[0m\u001b[37m\u001b[0m \u001b[1m6s\u001b[0m 8ms/step - accuracy: 0.8350 - loss: 0.5250 - val_accuracy: 0.9214 - val_loss: 0.2967\n",
      "Epoch 67/80\n",
      "\u001b[1m772/772\u001b[0m \u001b[32m━━━━━━━━━━━━━━━━━━━━\u001b[0m\u001b[37m\u001b[0m \u001b[1m6s\u001b[0m 8ms/step - accuracy: 0.8350 - loss: 0.5216 - val_accuracy: 0.9222 - val_loss: 0.2929\n",
      "Epoch 68/80\n",
      "\u001b[1m772/772\u001b[0m \u001b[32m━━━━━━━━━━━━━━━━━━━━\u001b[0m\u001b[37m\u001b[0m \u001b[1m6s\u001b[0m 8ms/step - accuracy: 0.8369 - loss: 0.5199 - val_accuracy: 0.9233 - val_loss: 0.2915\n",
      "Epoch 69/80\n",
      "\u001b[1m772/772\u001b[0m \u001b[32m━━━━━━━━━━━━━━━━━━━━\u001b[0m\u001b[37m\u001b[0m \u001b[1m6s\u001b[0m 8ms/step - accuracy: 0.8397 - loss: 0.5105 - val_accuracy: 0.9261 - val_loss: 0.2863\n",
      "Epoch 70/80\n",
      "\u001b[1m772/772\u001b[0m \u001b[32m━━━━━━━━━━━━━━━━━━━━\u001b[0m\u001b[37m\u001b[0m \u001b[1m6s\u001b[0m 8ms/step - accuracy: 0.8385 - loss: 0.5079 - val_accuracy: 0.9260 - val_loss: 0.2846\n",
      "Epoch 71/80\n",
      "\u001b[1m772/772\u001b[0m \u001b[32m━━━━━━━━━━━━━━━━━━━━\u001b[0m\u001b[37m\u001b[0m \u001b[1m6s\u001b[0m 8ms/step - accuracy: 0.8409 - loss: 0.5071 - val_accuracy: 0.9255 - val_loss: 0.2819\n",
      "Epoch 72/80\n",
      "\u001b[1m772/772\u001b[0m \u001b[32m━━━━━━━━━━━━━━━━━━━━\u001b[0m\u001b[37m\u001b[0m \u001b[1m6s\u001b[0m 8ms/step - accuracy: 0.8421 - loss: 0.5007 - val_accuracy: 0.9277 - val_loss: 0.2756\n",
      "Epoch 73/80\n",
      "\u001b[1m772/772\u001b[0m \u001b[32m━━━━━━━━━━━━━━━━━━━━\u001b[0m\u001b[37m\u001b[0m \u001b[1m6s\u001b[0m 8ms/step - accuracy: 0.8436 - loss: 0.4977 - val_accuracy: 0.9280 - val_loss: 0.2749\n",
      "Epoch 74/80\n",
      "\u001b[1m772/772\u001b[0m \u001b[32m━━━━━━━━━━━━━━━━━━━━\u001b[0m\u001b[37m\u001b[0m \u001b[1m7s\u001b[0m 8ms/step - accuracy: 0.8460 - loss: 0.4925 - val_accuracy: 0.9303 - val_loss: 0.2700\n",
      "Epoch 75/80\n",
      "\u001b[1m772/772\u001b[0m \u001b[32m━━━━━━━━━━━━━━━━━━━━\u001b[0m\u001b[37m\u001b[0m \u001b[1m6s\u001b[0m 8ms/step - accuracy: 0.8462 - loss: 0.4922 - val_accuracy: 0.9309 - val_loss: 0.2667\n",
      "Epoch 76/80\n",
      "\u001b[1m772/772\u001b[0m \u001b[32m━━━━━━━━━━━━━━━━━━━━\u001b[0m\u001b[37m\u001b[0m \u001b[1m6s\u001b[0m 8ms/step - accuracy: 0.8461 - loss: 0.4858 - val_accuracy: 0.9314 - val_loss: 0.2637\n",
      "Epoch 77/80\n",
      "\u001b[1m772/772\u001b[0m \u001b[32m━━━━━━━━━━━━━━━━━━━━\u001b[0m\u001b[37m\u001b[0m \u001b[1m6s\u001b[0m 8ms/step - accuracy: 0.8503 - loss: 0.4792 - val_accuracy: 0.9324 - val_loss: 0.2629\n",
      "Epoch 78/80\n",
      "\u001b[1m772/772\u001b[0m \u001b[32m━━━━━━━━━━━━━━━━━━━━\u001b[0m\u001b[37m\u001b[0m \u001b[1m7s\u001b[0m 8ms/step - accuracy: 0.8506 - loss: 0.4810 - val_accuracy: 0.9334 - val_loss: 0.2591\n",
      "Epoch 79/80\n",
      "\u001b[1m772/772\u001b[0m \u001b[32m━━━━━━━━━━━━━━━━━━━━\u001b[0m\u001b[37m\u001b[0m \u001b[1m6s\u001b[0m 8ms/step - accuracy: 0.8506 - loss: 0.4749 - val_accuracy: 0.9322 - val_loss: 0.2590\n",
      "Epoch 80/80\n",
      "\u001b[1m772/772\u001b[0m \u001b[32m━━━━━━━━━━━━━━━━━━━━\u001b[0m\u001b[37m\u001b[0m \u001b[1m7s\u001b[0m 8ms/step - accuracy: 0.8510 - loss: 0.4707 - val_accuracy: 0.9329 - val_loss: 0.2559\n"
     ]
    }
   ],
   "source": [
    "# este paso puede tomar varios minutos, dependiendo de tu ordenador, cpu y memoria ram libre\n",
    "sport_train = sport_model.fit(train_X, train_label, batch_size=batch_size,epochs=epochs,verbose=1,validation_data=(valid_X, valid_label))"
   ]
  },
  {
   "cell_type": "code",
   "execution_count": 169,
   "metadata": {
    "ExecuteTime": {
     "end_time": "2018-11-08T00:20:49.676566Z",
     "start_time": "2018-11-08T00:20:49.566203Z"
    }
   },
   "outputs": [
    {
     "name": "stderr",
     "output_type": "stream",
     "text": [
      "WARNING:absl:You are saving your model as an HDF5 file via `model.save()` or `keras.saving.save_model(model)`. This file format is considered legacy. We recommend using instead the native Keras format, e.g. `model.save('my_model.keras')` or `keras.saving.save_model(model, 'my_model.keras')`. \n"
     ]
    }
   ],
   "source": [
    "# guardamos la red, para reutilizarla en el futuro, sin tener que volver a entrenar\n",
    "sport_model.save(\"./models/sport_model_e80.h5\")"
   ]
  },
  {
   "cell_type": "markdown",
   "metadata": {},
   "source": [
    "# Evaluamos la red"
   ]
  },
  {
   "cell_type": "code",
   "execution_count": 170,
   "metadata": {
    "ExecuteTime": {
     "end_time": "2018-11-08T00:20:54.462929Z",
     "start_time": "2018-11-08T00:20:49.678643Z"
    }
   },
   "outputs": [
    {
     "name": "stdout",
     "output_type": "stream",
     "text": [
      "\u001b[1m483/483\u001b[0m \u001b[32m━━━━━━━━━━━━━━━━━━━━\u001b[0m\u001b[37m\u001b[0m \u001b[1m1s\u001b[0m 2ms/step - accuracy: 0.9294 - loss: 0.2623\n"
     ]
    }
   ],
   "source": [
    "test_eval = sport_model.evaluate(test_X, test_Y_one_hot, verbose=1)"
   ]
  },
  {
   "cell_type": "code",
   "execution_count": 171,
   "metadata": {
    "ExecuteTime": {
     "end_time": "2018-11-08T00:20:54.474683Z",
     "start_time": "2018-11-08T00:20:54.465378Z"
    }
   },
   "outputs": [
    {
     "name": "stdout",
     "output_type": "stream",
     "text": [
      "Test loss: 0.26232045888900757\n",
      "Test accuracy: 0.9294049143791199\n"
     ]
    }
   ],
   "source": [
    "print('Test loss:', test_eval[0])\n",
    "print('Test accuracy:', test_eval[1])"
   ]
  },
  {
   "cell_type": "code",
   "execution_count": 172,
   "metadata": {},
   "outputs": [
    {
     "data": {
      "text/plain": [
       "{'accuracy': [0.16515396535396576,\n",
       "  0.2508711516857147,\n",
       "  0.31452593207359314,\n",
       "  0.37560778856277466,\n",
       "  0.425121545791626,\n",
       "  0.4728727638721466,\n",
       "  0.5107779502868652,\n",
       "  0.5429902672767639,\n",
       "  0.5668557286262512,\n",
       "  0.5905389189720154,\n",
       "  0.606786847114563,\n",
       "  0.6239262819290161,\n",
       "  0.6351094245910645,\n",
       "  0.6464343667030334,\n",
       "  0.6609400510787964,\n",
       "  0.666329026222229,\n",
       "  0.6779578328132629,\n",
       "  0.6828606128692627,\n",
       "  0.69345623254776,\n",
       "  0.6975283622741699,\n",
       "  0.7099676132202148,\n",
       "  0.7136547565460205,\n",
       "  0.7183346748352051,\n",
       "  0.7227917313575745,\n",
       "  0.7328200936317444,\n",
       "  0.7352714538574219,\n",
       "  0.7396475076675415,\n",
       "  0.7468395233154297,\n",
       "  0.7497568726539612,\n",
       "  0.7522892951965332,\n",
       "  0.7588127851486206,\n",
       "  0.7613452076911926,\n",
       "  0.7655996680259705,\n",
       "  0.7674635052680969,\n",
       "  0.7711507081985474,\n",
       "  0.7750810384750366,\n",
       "  0.7772487998008728,\n",
       "  0.7792949676513672,\n",
       "  0.7826985120773315,\n",
       "  0.787560760974884,\n",
       "  0.7911061644554138,\n",
       "  0.7899513840675354,\n",
       "  0.7940640449523926,\n",
       "  0.7970016002655029,\n",
       "  0.8019651770591736,\n",
       "  0.8011142611503601,\n",
       "  0.8030388951301575,\n",
       "  0.8049229979515076,\n",
       "  0.8078606128692627,\n",
       "  0.8093395233154297,\n",
       "  0.8124189376831055,\n",
       "  0.8129254579544067,\n",
       "  0.8139384388923645,\n",
       "  0.8167341947555542,\n",
       "  0.817868709564209,\n",
       "  0.8218597769737244,\n",
       "  0.821636974811554,\n",
       "  0.8219408392906189,\n",
       "  0.8267828226089478,\n",
       "  0.8266410231590271,\n",
       "  0.8268840909004211,\n",
       "  0.8292544484138489,\n",
       "  0.8284440636634827,\n",
       "  0.829659640789032,\n",
       "  0.8343395590782166,\n",
       "  0.8349676132202148,\n",
       "  0.8350486159324646,\n",
       "  0.8369124531745911,\n",
       "  0.8397487998008728,\n",
       "  0.8385129570960999,\n",
       "  0.8409441113471985,\n",
       "  0.8420786261558533,\n",
       "  0.8436385989189148,\n",
       "  0.8460088968276978,\n",
       "  0.8462114930152893,\n",
       "  0.8460696935653687,\n",
       "  0.8503444194793701,\n",
       "  0.8506482839584351,\n",
       "  0.8506482839584351,\n",
       "  0.8509724736213684],\n",
       " 'loss': [2.2603087425231934,\n",
       "  2.1240382194519043,\n",
       "  1.9708056449890137,\n",
       "  1.816666603088379,\n",
       "  1.6718562841415405,\n",
       "  1.535279393196106,\n",
       "  1.4264529943466187,\n",
       "  1.3388277292251587,\n",
       "  1.2698016166687012,\n",
       "  1.2036155462265015,\n",
       "  1.1554831266403198,\n",
       "  1.1112806797027588,\n",
       "  1.0786936283111572,\n",
       "  1.0477417707443237,\n",
       "  1.0175482034683228,\n",
       "  0.9969613552093506,\n",
       "  0.9722687005996704,\n",
       "  0.9519967436790466,\n",
       "  0.9267805218696594,\n",
       "  0.9125354290008545,\n",
       "  0.8906660079956055,\n",
       "  0.8734958171844482,\n",
       "  0.8642261028289795,\n",
       "  0.848409116268158,\n",
       "  0.8282148241996765,\n",
       "  0.8154000639915466,\n",
       "  0.8049678206443787,\n",
       "  0.7922073602676392,\n",
       "  0.7798040509223938,\n",
       "  0.7720321416854858,\n",
       "  0.7546720504760742,\n",
       "  0.7476699948310852,\n",
       "  0.7376929521560669,\n",
       "  0.7297770977020264,\n",
       "  0.7192755341529846,\n",
       "  0.7103134393692017,\n",
       "  0.7002650499343872,\n",
       "  0.6974899768829346,\n",
       "  0.681394100189209,\n",
       "  0.673033595085144,\n",
       "  0.662926971912384,\n",
       "  0.665686309337616,\n",
       "  0.6563911437988281,\n",
       "  0.6430925726890564,\n",
       "  0.6366626024246216,\n",
       "  0.6261353492736816,\n",
       "  0.6228179931640625,\n",
       "  0.6176339387893677,\n",
       "  0.6094467043876648,\n",
       "  0.6068766713142395,\n",
       "  0.5976544618606567,\n",
       "  0.5922819375991821,\n",
       "  0.5881258845329285,\n",
       "  0.5822335481643677,\n",
       "  0.575576901435852,\n",
       "  0.5668368935585022,\n",
       "  0.5660863518714905,\n",
       "  0.5604245066642761,\n",
       "  0.5554925799369812,\n",
       "  0.5469270944595337,\n",
       "  0.5459718704223633,\n",
       "  0.5444162487983704,\n",
       "  0.5445363521575928,\n",
       "  0.5345722436904907,\n",
       "  0.5296464562416077,\n",
       "  0.5249921083450317,\n",
       "  0.5216177701950073,\n",
       "  0.519864559173584,\n",
       "  0.5104787945747375,\n",
       "  0.5079333782196045,\n",
       "  0.507075846195221,\n",
       "  0.5007045865058899,\n",
       "  0.4977046549320221,\n",
       "  0.49254310131073,\n",
       "  0.49216142296791077,\n",
       "  0.4858013093471527,\n",
       "  0.4792102575302124,\n",
       "  0.4810090661048889,\n",
       "  0.47494935989379883,\n",
       "  0.47073572874069214],\n",
       " 'val_accuracy': [0.3599384129047394,\n",
       "  0.44874808192253113,\n",
       "  0.5328579545021057,\n",
       "  0.6256381273269653,\n",
       "  0.6711773872375488,\n",
       "  0.6978364586830139,\n",
       "  0.7112065553665161,\n",
       "  0.7319504022598267,\n",
       "  0.7428085207939148,\n",
       "  0.7459686994552612,\n",
       "  0.7601491212844849,\n",
       "  0.7787051200866699,\n",
       "  0.7853496670722961,\n",
       "  0.7911838293075562,\n",
       "  0.8008264899253845,\n",
       "  0.8089295625686646,\n",
       "  0.8102260828018188,\n",
       "  0.8141155242919922,\n",
       "  0.8226237893104553,\n",
       "  0.8197876811027527,\n",
       "  0.8295114040374756,\n",
       "  0.8310509920120239,\n",
       "  0.8339681029319763,\n",
       "  0.8385868072509766,\n",
       "  0.8457175493240356,\n",
       "  0.8474191427230835,\n",
       "  0.8537395596504211,\n",
       "  0.8551170825958252,\n",
       "  0.8606271743774414,\n",
       "  0.8658941984176636,\n",
       "  0.8650838732719421,\n",
       "  0.8713232278823853,\n",
       "  0.8724576830863953,\n",
       "  0.8744024038314819,\n",
       "  0.8770763874053955,\n",
       "  0.8802366256713867,\n",
       "  0.8822623491287231,\n",
       "  0.8839640021324158,\n",
       "  0.8854225873947144,\n",
       "  0.8855846524238586,\n",
       "  0.8899602890014648,\n",
       "  0.8904464840888977,\n",
       "  0.890851616859436,\n",
       "  0.8941739201545715,\n",
       "  0.8948221206665039,\n",
       "  0.8985495567321777,\n",
       "  0.8978202939033508,\n",
       "  0.9001701474189758,\n",
       "  0.901952862739563,\n",
       "  0.900818407535553,\n",
       "  0.9029251933097839,\n",
       "  0.9043837785720825,\n",
       "  0.906409502029419,\n",
       "  0.9102990031242371,\n",
       "  0.9084352850914001,\n",
       "  0.9113523960113525,\n",
       "  0.9131350517272949,\n",
       "  0.9152418971061707,\n",
       "  0.917024552822113,\n",
       "  0.9165383577346802,\n",
       "  0.9190503358840942,\n",
       "  0.9175917506217957,\n",
       "  0.9194554686546326,\n",
       "  0.9209950566291809,\n",
       "  0.9221295118331909,\n",
       "  0.9214001893997192,\n",
       "  0.9222105145454407,\n",
       "  0.9233449697494507,\n",
       "  0.9261000156402588,\n",
       "  0.9260189533233643,\n",
       "  0.9255327582359314,\n",
       "  0.9277206063270569,\n",
       "  0.9280447363853455,\n",
       "  0.9303135871887207,\n",
       "  0.9308807849884033,\n",
       "  0.9314480423927307,\n",
       "  0.9324203729629517,\n",
       "  0.9333927631378174,\n",
       "  0.9321773052215576,\n",
       "  0.9329065680503845],\n",
       " 'val_loss': [2.1598846912384033,\n",
       "  1.9672093391418457,\n",
       "  1.7668873071670532,\n",
       "  1.5682792663574219,\n",
       "  1.3962043523788452,\n",
       "  1.2517573833465576,\n",
       "  1.1370570659637451,\n",
       "  1.0473662614822388,\n",
       "  0.9811776280403137,\n",
       "  0.9228881001472473,\n",
       "  0.8783437013626099,\n",
       "  0.839512288570404,\n",
       "  0.8048670291900635,\n",
       "  0.7772104144096375,\n",
       "  0.7468096017837524,\n",
       "  0.7311497330665588,\n",
       "  0.7063153386116028,\n",
       "  0.6865829229354858,\n",
       "  0.6668267250061035,\n",
       "  0.649588406085968,\n",
       "  0.6348168849945068,\n",
       "  0.6186513900756836,\n",
       "  0.6012887954711914,\n",
       "  0.5890673398971558,\n",
       "  0.5740479826927185,\n",
       "  0.5596718192100525,\n",
       "  0.5481113791465759,\n",
       "  0.5387372374534607,\n",
       "  0.5247209668159485,\n",
       "  0.5165100693702698,\n",
       "  0.5052666664123535,\n",
       "  0.493964284658432,\n",
       "  0.48540881276130676,\n",
       "  0.47858673334121704,\n",
       "  0.4704998731613159,\n",
       "  0.4598422348499298,\n",
       "  0.45132720470428467,\n",
       "  0.445793092250824,\n",
       "  0.4371035397052765,\n",
       "  0.43075355887413025,\n",
       "  0.4195660352706909,\n",
       "  0.41514062881469727,\n",
       "  0.4093470573425293,\n",
       "  0.40214312076568604,\n",
       "  0.3967500329017639,\n",
       "  0.387668639421463,\n",
       "  0.38271453976631165,\n",
       "  0.3773881196975708,\n",
       "  0.3713951110839844,\n",
       "  0.3673041760921478,\n",
       "  0.35908111929893494,\n",
       "  0.35596102476119995,\n",
       "  0.3515998423099518,\n",
       "  0.3458130359649658,\n",
       "  0.3414226472377777,\n",
       "  0.3367709815502167,\n",
       "  0.33229345083236694,\n",
       "  0.3271651864051819,\n",
       "  0.32500773668289185,\n",
       "  0.31980469822883606,\n",
       "  0.316298246383667,\n",
       "  0.31195321679115295,\n",
       "  0.3077952265739441,\n",
       "  0.3043897747993469,\n",
       "  0.2995075583457947,\n",
       "  0.2966853082180023,\n",
       "  0.2929188311100006,\n",
       "  0.2915274202823639,\n",
       "  0.28627824783325195,\n",
       "  0.2846420407295227,\n",
       "  0.28192082047462463,\n",
       "  0.2756299674510956,\n",
       "  0.2748750150203705,\n",
       "  0.270032674074173,\n",
       "  0.26665419340133667,\n",
       "  0.26367896795272827,\n",
       "  0.2629457712173462,\n",
       "  0.25908878445625305,\n",
       "  0.25902724266052246,\n",
       "  0.2559116780757904]}"
      ]
     },
     "execution_count": 172,
     "metadata": {},
     "output_type": "execute_result"
    }
   ],
   "source": [
    "sport_train.history"
   ]
  },
  {
   "cell_type": "code",
   "execution_count": 173,
   "metadata": {
    "ExecuteTime": {
     "end_time": "2018-11-08T00:20:55.014647Z",
     "start_time": "2018-11-08T00:20:54.479693Z"
    },
    "scrolled": false
   },
   "outputs": [
    {
     "data": {
      "image/png": "[encoded data removed]",
      "text/plain": [
       "<Figure size 640x480 with 1 Axes>"
      ]
     },
     "metadata": {},
     "output_type": "display_data"
    },
    {
     "data": {
      "image/png": "[encoded data removed]",
      "text/plain": [
       "<Figure size 640x480 with 1 Axes>"
      ]
     },
     "metadata": {},
     "output_type": "display_data"
    }
   ],
   "source": [
    "accuracy = sport_train.history['accuracy']\n",
    "val_accuracy = sport_train.history['val_accuracy']\n",
    "loss = sport_train.history['loss']\n",
    "val_loss = sport_train.history['val_loss']\n",
    "epochs = range(len(accuracy))\n",
    "plt.plot(epochs, accuracy, 'bo', label='Training accuracy')\n",
    "plt.plot(epochs, val_accuracy, 'b', label='Validation accuracy')\n",
    "plt.title('Training and validation accuracy')\n",
    "plt.legend()\n",
    "plt.figure()\n",
    "plt.plot(epochs, loss, 'bo', label='Training loss')\n",
    "plt.plot(epochs, val_loss, 'b', label='Validation loss')\n",
    "plt.title('Training and validation loss')\n",
    "plt.legend()\n",
    "plt.show()"
   ]
  },
  {
   "cell_type": "code",
   "execution_count": 174,
   "metadata": {
    "ExecuteTime": {
     "end_time": "2018-11-08T00:20:58.050602Z",
     "start_time": "2018-11-08T00:20:55.021862Z"
    }
   },
   "outputs": [
    {
     "name": "stdout",
     "output_type": "stream",
     "text": [
      "\u001b[1m483/483\u001b[0m \u001b[32m━━━━━━━━━━━━━━━━━━━━\u001b[0m\u001b[37m\u001b[0m \u001b[1m1s\u001b[0m 2ms/step\n"
     ]
    }
   ],
   "source": [
    "predicted_classes2 = sport_model.predict(test_X)"
   ]
  },
  {
   "cell_type": "code",
   "execution_count": 175,
   "metadata": {
    "ExecuteTime": {
     "end_time": "2018-11-08T00:20:58.262575Z",
     "start_time": "2018-11-08T00:20:58.052878Z"
    }
   },
   "outputs": [],
   "source": [
    "predicted_classes=[]\n",
    "for predicted_sport in predicted_classes2:\n",
    "    predicted_classes.append(predicted_sport.tolist().index(max(predicted_sport)))\n",
    "predicted_classes=np.array(predicted_classes)"
   ]
  },
  {
   "cell_type": "code",
   "execution_count": 176,
   "metadata": {
    "ExecuteTime": {
     "end_time": "2018-11-08T00:20:58.272559Z",
     "start_time": "2018-11-08T00:20:58.264703Z"
    }
   },
   "outputs": [
    {
     "data": {
      "text/plain": [
       "((15426,), (15426,))"
      ]
     },
     "execution_count": 176,
     "metadata": {},
     "output_type": "execute_result"
    }
   ],
   "source": [
    "predicted_classes.shape, test_Y.shape"
   ]
  },
  {
   "cell_type": "markdown",
   "metadata": {},
   "source": [
    "# Aprendamos de los errores: Qué mejorar"
   ]
  },
  {
   "cell_type": "code",
   "execution_count": 177,
   "metadata": {
    "ExecuteTime": {
     "end_time": "2018-11-08T00:20:59.822110Z",
     "start_time": "2018-11-08T00:20:58.275464Z"
    }
   },
   "outputs": [
    {
     "name": "stdout",
     "output_type": "stream",
     "text": [
      "Found 14337 correct labels\n"
     ]
    },
    {
     "data": {
      "image/png": "[encoded data removed]",
      "text/plain": [
       "<Figure size 640x480 with 9 Axes>"
      ]
     },
     "metadata": {},
     "output_type": "display_data"
    }
   ],
   "source": [
    "correct = np.where(predicted_classes==test_Y)[0]\n",
    "print(\"Found %d correct labels\" % len(correct))\n",
    "for i, correct in enumerate(correct[0:9]):\n",
    "    plt.subplot(3,3,i+1)\n",
    "    plt.imshow(test_X[correct].reshape(21,28,3), cmap='gray', interpolation='none')\n",
    "    plt.title(\"{}, {}\".format(deportes[predicted_classes[correct]],\n",
    "                                                    deportes[test_Y[correct]]))\n",
    "\n",
    "    plt.tight_layout()"
   ]
  },
  {
   "cell_type": "code",
   "execution_count": 178,
   "metadata": {
    "ExecuteTime": {
     "end_time": "2018-11-08T00:21:00.942267Z",
     "start_time": "2018-11-08T00:20:59.829572Z"
    }
   },
   "outputs": [
    {
     "name": "stdout",
     "output_type": "stream",
     "text": [
      "Found 1089 incorrect labels\n"
     ]
    },
    {
     "data": {
      "image/png": "[encoded data removed]",
      "text/plain": [
       "<Figure size 640x480 with 9 Axes>"
      ]
     },
     "metadata": {},
     "output_type": "display_data"
    }
   ],
   "source": [
    "incorrect = np.where(predicted_classes!=test_Y)[0]\n",
    "print(\"Found %d incorrect labels\" % len(incorrect))\n",
    "for i, incorrect in enumerate(incorrect[0:9]):\n",
    "    plt.subplot(3,3,i+1)\n",
    "    plt.imshow(test_X[incorrect].reshape(21,28,3), cmap='gray', interpolation='none')\n",
    "    plt.title(\"{}, {}\".format(deportes[predicted_classes[incorrect]],\n",
    "                                                    deportes[test_Y[incorrect]]))\n",
    "    plt.tight_layout()"
   ]
  },
  {
   "cell_type": "code",
   "execution_count": 179,
   "metadata": {
    "ExecuteTime": {
     "end_time": "2018-11-08T00:21:00.968727Z",
     "start_time": "2018-11-08T00:21:00.947262Z"
    },
    "scrolled": true
   },
   "outputs": [
    {
     "name": "stdout",
     "output_type": "stream",
     "text": [
      "              precision    recall  f1-score   support\n",
      "\n",
      "     Class 0       0.88      0.96      0.92      1975\n",
      "     Class 1       0.95      0.91      0.93      1751\n",
      "     Class 2       1.00      1.00      1.00      1797\n",
      "     Class 3       0.99      0.97      0.98      1046\n",
      "     Class 4       1.00      1.00      1.00      1491\n",
      "     Class 5       0.92      0.88      0.90      1521\n",
      "     Class 6       0.98      0.91      0.94      1522\n",
      "     Class 7       0.79      0.87      0.83      1864\n",
      "     Class 8       0.90      0.78      0.84      1031\n",
      "     Class 9       0.95      0.98      0.96      1428\n",
      "\n",
      "    accuracy                           0.93     15426\n",
      "   macro avg       0.94      0.93      0.93     15426\n",
      "weighted avg       0.93      0.93      0.93     15426\n",
      "\n"
     ]
    }
   ],
   "source": [
    "target_names = [\"Class {}\".format(i) for i in range(nClasses)]\n",
    "print(classification_report(test_Y, predicted_classes, target_names=target_names))"
   ]
  },
  {
   "cell_type": "code",
   "execution_count": 180,
   "metadata": {},
   "outputs": [
    {
     "name": "stdout",
     "output_type": "stream",
     "text": [
      "\u001b[1m1/1\u001b[0m \u001b[32m━━━━━━━━━━━━━━━━━━━━\u001b[0m\u001b[37m\u001b[0m \u001b[1m0s\u001b[0m 14ms/step\n",
      "test/golf_0113.jpg golf\n"
     ]
    }
   ],
   "source": [
    "from skimage.transform import resize\n",
    "\n",
    "images=[]\n",
    "# AQUI ESPECIFICAMOS UNAS IMAGENES\n",
    "filenames = ['test/golf_0113.jpg']\n",
    "\n",
    "for filepath in filenames:\n",
    "    image = plt.imread(filepath,0)\n",
    "    image_resized = resize(image, (21, 28),anti_aliasing=True,clip=False,preserve_range=True)\n",
    "    images.append(image_resized)\n",
    "\n",
    "X = np.array(images, dtype=np.uint8) #convierto de lista a numpy\n",
    "test_X = X.astype('float32')\n",
    "test_X = test_X / 255.\n",
    "\n",
    "predicted_classes = sport_model.predict(test_X)\n",
    "\n",
    "for i, img_tagged in enumerate(predicted_classes):\n",
    "    print(filenames[i], deportes[img_tagged.tolist().index(max(img_tagged))])"
   ]
  },
  {
   "cell_type": "code",
   "execution_count": null,
   "metadata": {},
   "outputs": [],
   "source": []
  }
 ],
 "metadata": {
  "kernelspec": {
   "display_name": "venv",
   "language": "python",
   "name": "python3"
  },
  "language_info": {
   "codemirror_mode": {
    "name": "ipython",
    "version": 3
   },
   "file_extension": ".py",
   "mimetype": "text/x-python",
   "name": "python",
   "nbconvert_exporter": "python",
   "pygments_lexer": "ipython3",
   "version": "3.13.2"
  }
 },
 "nbformat": 4,
 "nbformat_minor": 2
}
